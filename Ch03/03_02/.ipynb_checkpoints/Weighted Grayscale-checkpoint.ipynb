{
 "cells": [
  {
   "cell_type": "markdown",
   "id": "7881fc0c",
   "metadata": {},
   "source": [
    "# Weighted Grayscale\n",
    "Average grayscale doesn't usually look very natural.\n",
    "A more natural alternative consists in assigning different weights to Red, Green, and Blue, based on luminance or human perception.\n",
    "\n",
    "A popular distribution is: \n",
    "* Red: 0.299\n",
    "* Green: 0.587\n",
    "* Blue: 0.114\n"
   ]
  },
  {
   "cell_type": "code",
   "execution_count": null,
   "id": "82c3443d",
   "metadata": {},
   "outputs": [],
   "source": [
    "# Let's open the Playspace image again\n",
    "\n",
    "import numpy as np\n",
    "import matplotlib.pyplot as plt\n",
    "%config InlineBackend.figure_formats = 'retina'\n",
    "%matplotlib inline\n",
    "from EC_CV import *\n",
    "from matplotlib import rcParams\n",
    "\n",
    "plt.rcParams['figure.figsize'] = (8, 8)\n",
    "\n",
    "toys = adapt_PNG(plt.imread('playspace.png'))\n",
    "plt.axis(\"off\")\n",
    "plt.imshow(toys)"
   ]
  },
  {
   "cell_type": "code",
   "execution_count": null,
   "id": "04624286-47db-48ed-93f5-a165c24e72dc",
   "metadata": {},
   "outputs": [],
   "source": [
    "rcParams['figure.figsize'] = (20, 8)\n",
    "\n",
    "# Calculate regular average and weighted average\n",
    "toys_avg = np.dot(toys[...,:3], [1/3,1/3,1/3])\n",
    "toys_wgt = np.dot(toys[...,:3], [0.299,0.587,0.114])\n",
    "\n",
    "# display images\n",
    "fig, ax = plt.subplots(1,2)\n",
    "ax[0].imshow(toys_avg, cmap='gray')\n",
    "ax[1].imshow(toys_wgt, cmap='gray')"
   ]
  },
  {
   "cell_type": "code",
   "execution_count": null,
   "id": "fa2a74ab-04e8-4c05-8541-7c5beafd61f5",
   "metadata": {},
   "outputs": [],
   "source": [
    "# Now let's try it on another picture\n",
    "\n",
    "fruit = plt.imread('fruit.jpg')\n",
    "plt.imshow(fruit)"
   ]
  },
  {
   "cell_type": "code",
   "execution_count": null,
   "id": "6223e904-5d83-4454-865f-963a6fc7b826",
   "metadata": {},
   "outputs": [],
   "source": [
    "fruit_avg = np.dot(fruit[...,:3], [1/3,1/3,1/3])\n",
    "fruit_wgt = np.dot(fruit[...,:3], [0.299,0.587,0.114])\n",
    "\n",
    "# figure size in inches\n",
    "rcParams['figure.figsize'] = 20, 8\n",
    "\n",
    "# display images\n",
    "fig, ax = plt.subplots(1,2)\n",
    "ax[0].imshow(fruit_avg, cmap='gray')\n",
    "ax[1].imshow(fruit_wgt, cmap='gray')"
   ]
  }
 ],
 "metadata": {
  "kernelspec": {
   "display_name": "Python 3 (ipykernel)",
   "language": "python",
   "name": "python3"
  },
  "language_info": {
   "codemirror_mode": {
    "name": "ipython",
    "version": 3
   },
   "file_extension": ".py",
   "mimetype": "text/x-python",
   "name": "python",
   "nbconvert_exporter": "python",
   "pygments_lexer": "ipython3",
   "version": "3.9.12"
  }
 },
 "nbformat": 4,
 "nbformat_minor": 5
}
