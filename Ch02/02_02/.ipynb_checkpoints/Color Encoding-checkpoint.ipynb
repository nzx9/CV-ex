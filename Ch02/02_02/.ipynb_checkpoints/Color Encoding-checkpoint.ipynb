{
 "cells": [
  {
   "cell_type": "markdown",
   "id": "d8093542",
   "metadata": {},
   "source": [
    "# Color Encoding\n",
    "\n",
    "Color may be encoded in a variety of ways like RGB, RGBA, CMYK, or HSL. \n",
    "We'll use RGB encoding, where each pixel is represented as a vector with 3 channels: Red, Green, and Blue.\n",
    "RGB is usually encoded as a 24-bit bitmap, meaning that each pixel takes up 24 bits, or 3 bytes. Each byte represents a color channel, so every value must be an unsigned number between 0 and 255, where 0 means 0% intensity of its color, and 255 means 100% intensity.\n",
    "\n",
    "Let's play with some colors. "
   ]
  },
  {
   "cell_type": "code",
   "execution_count": 2,
   "id": "82c3443d",
   "metadata": {},
   "outputs": [
    {
     "data": {
      "text/plain": [
       "<matplotlib.image.AxesImage at 0x22a5f209c40>"
      ]
     },
     "execution_count": 2,
     "metadata": {},
     "output_type": "execute_result"
    },
    {
     "data": {
      "image/png": "[encoded data removed]",
      "text/plain": [
       "<Figure size 432x288 with 1 Axes>"
      ]
     },
     "metadata": {
      "image/png": {
       "height": 231,
       "width": 231
      },
      "needs_background": "light"
     },
     "output_type": "display_data"
    }
   ],
   "source": [
    "# First, let's create a simple 3x3 image\n",
    "\n",
    "import numpy as np\n",
    "import matplotlib.pyplot as plt\n",
    "%config InlineBackend.figure_formats = 'retina'\n",
    "\n",
    "img = np.array([[[255,   0,   0], [  0, 255,   0], [  0,   0, 255]],   #  red,   green,     blue\n",
    "                [[  0, 255, 255], [255,   0, 255], [255, 255,   0]],   # cyan, magenta,   yellow\n",
    "                [[  0,   0,   0], [255, 255, 255], [127, 127, 127]]])  #black,   white, gray 50%\n",
    "plt.axis(\"off\")\n",
    "plt.imshow(img)"
   ]
  },
  {
   "cell_type": "code",
   "execution_count": 6,
   "id": "8eef350c",
   "metadata": {},
   "outputs": [
    {
     "data": {
      "text/plain": [
       "<matplotlib.image.AxesImage at 0x22a5fafa0d0>"
      ]
     },
     "execution_count": 6,
     "metadata": {},
     "output_type": "execute_result"
    },
    {
     "data": {
      "image/png": "[encoded data removed]",
      "text/plain": [
       "<Figure size 432x288 with 1 Axes>"
      ]
     },
     "metadata": {
      "image/png": {
       "height": 248,
       "width": 263
      },
      "needs_background": "light"
     },
     "output_type": "display_data"
    }
   ],
   "source": [
    "# Let's change the lower left pixel from Black to Orange\n",
    "\n",
    "img[2,0,0]=255\n",
    "img[2,0,1]=200\n",
    "\n",
    "plt.imshow(img[2:3,0:1]) # Show pixel at row 2 and column 0\n"
   ]
  },
  {
   "cell_type": "code",
   "execution_count": 57,
   "id": "30153110",
   "metadata": {},
   "outputs": [],
   "source": [
    "def byte_array(the_img):\n",
    "    return np.uint8(np.clip(the_img.round(),0,255))"
   ]
  },
  {
   "cell_type": "code",
   "execution_count": 3,
   "id": "cda90d40",
   "metadata": {},
   "outputs": [
    {
     "name": "stdout",
     "output_type": "stream",
     "text": [
      "<class 'numpy.int32'>\n",
      "<class 'numpy.uint8'>\n"
     ]
    }
   ],
   "source": [
    "# Let's save our image in a file. \n",
    "# The contents of img must be unsigned 8-bit integers.\n",
    "\n",
    "print(type(img[0,0,0]))\n",
    "img = np.uint8(img)\n",
    "plt.imsave(\"colors_ints.png\",img)\n",
    "print(type(img[0,0,0]))"
   ]
  },
  {
   "cell_type": "code",
   "execution_count": null,
   "id": "e9e2c4d6",
   "metadata": {},
   "outputs": [],
   "source": []
  }
 ],
 "metadata": {
  "kernelspec": {
   "display_name": "Python 3 (ipykernel)",
   "language": "python",
   "name": "python3"
  },
  "language_info": {
   "codemirror_mode": {
    "name": "ipython",
    "version": 3
   },
   "file_extension": ".py",
   "mimetype": "text/x-python",
   "name": "python",
   "nbconvert_exporter": "python",
   "pygments_lexer": "ipython3",
   "version": "3.9.7"
  }
 },
 "nbformat": 4,
 "nbformat_minor": 5
}
